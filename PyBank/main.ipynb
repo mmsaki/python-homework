{
 "cells": [
  {
   "cell_type": "code",
   "execution_count": 41,
   "id": "44aca6c2-9fda-46c6-b6db-970b6deaeb19",
   "metadata": {},
   "outputs": [],
   "source": [
    "# importing necessary modules\n",
    "from pathlib import Path\n",
    "import csv\n",
    "\n",
    "# Creating a variable for the path to the 'budget_data.csv' file in our Resources folder \n",
    "csvpath = Path('./DataFolder/budget_data.csv')\n",
    "\n",
    "# Open budget_data.csv\n",
    "with open(csvpath, newline=\"\") as csvfile:\n",
    "    # Using reader() method to read our data\n",
    "    csvreader = csv.reader(csvfile, delimiter=\",\")\n",
    "    csv_header = next(csvreader) # Skips the date $ profit/losses header\n",
    "    \n",
    "    month_list = [] # Creating empty list for our monthly dates\n",
    "    profit_list = [] # Creating empty list to contain profit/losses list data\n",
    "    total_months = 0 # Creating 'total_months' variable to be used in loop\n",
    "    total_profits = 0 # Creating a 'total_profit' variable to be used in loop\n",
    "    \n",
    "    for row in csvfile: # Iterating through list using a for loop\n",
    "        month_list.append(row[:8]) # Slicing date month data and using 'append()' mehtod to add to the 'month_list'. \n",
    "        profit_list.append(row[9:]) # Sliced the Profit/Losses data and used the 'append()' method to add the Profits/Losses data the empty 'profit_list'. Profit/Losses data starts at the 9th index in each row of data in each loop.\n",
    "        total_months +=len(row[0]) # By using the 'len()' method I can determine the length of the rows in our list. While looping the number of rows are added up to total up the number of months in our data.\n",
    "        total_profits += int(row[9:]) # I sliced the Profit/Losses data and added all the values to our variable 'total_profits'.\n",
    "    \n",
    "    change = [int(current_month) - int(previous_month) for previous_month, current_month in zip(profit_list, profit_list[1:])] # When looping through 'profit_list' I use 'zip()' method to create pairs within the 'profit_list'. Using two variables as pairs to find the change in profits beteween current month, and the previous month.\n",
    "    change_sorted = sorted(change) # Sorting the change in Profits/Losses list using 'sorted()' method. This sorts in ascending order. From the greatest loss to the greatest profit.\n",
    "    \n",
    "    average = round(sum(change)/len(change),2) # Average of changes in Profit/Losses and rounding to 2 decimal places\n",
    "    \n",
    "    profit_month = change.index(change_sorted[-1]) + 1 # Using 'index()' method to locate the greatest profit month. Using the last index, '-1', in our sorted data as the input. The 'current_month' is one index higher than the previous_month, therefore [result index] + 1 for the greatest profit/loss month.\n",
    "    loss_month = change.index(change_sorted[0]) + 1 # Using 'index()' method to locate the greatest loss month. Using the index, '0', in our sorted data as the input. \n",
    "    \n",
    "with open(\"../Output/pybank_analysis.txt\", \"w\") as f: # Using with with statement to create 'pybank_analysis.txt' in 'output/' folder within our directory\n",
    "    print(f\"\"\"Financial Analysis \n",
    "----------------------------------------------------------------------------------\"\"\", file=f)\n",
    "    print(f\"The total number of months is {total_months} months.\", file=f)\n",
    "    print(f\"The net total amount of Profit/Losses over the entire period is ${total_profits}.\", file=f)\n",
    "    print(f\"The average of the changes in Profit/Losses over the entire period ${average}.\", file=f)\n",
    "    print(f\"The greatest increase in profits over the entire period is {month_list[profit_month]}. Profit: ${change_sorted[-1]}.\", file=f)\n",
    "    print(f\"The greatest decrease in profits over the entire period is {month_list[loss_month]}. Loss: ${change_sorted[0]}.\", file=f)\n",
    "    \n",
    "    "
   ]
  }
 ],
 "metadata": {
  "kernelspec": {
   "display_name": "Python 3 (ipykernel)",
   "language": "python",
   "name": "python3"
  },
  "language_info": {
   "codemirror_mode": {
    "name": "ipython",
    "version": 3
   },
   "file_extension": ".py",
   "mimetype": "text/x-python",
   "name": "python",
   "nbconvert_exporter": "python",
   "pygments_lexer": "ipython3",
   "version": "3.9.4"
  }
 },
 "nbformat": 4,
 "nbformat_minor": 5
}
