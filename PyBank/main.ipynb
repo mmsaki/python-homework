{
 "cells": [
  {
   "cell_type": "markdown",
   "id": "8103a77d-00ef-4114-b526-f5947c3cf09c",
   "metadata": {},
   "source": [
    "## Py Bank Analysis\n",
    "* Import Pathlib\n",
    "* Import csv"
   ]
  },
  {
   "cell_type": "code",
   "execution_count": 15,
   "id": "e28496b4-9696-4e97-817e-107c056dd2d0",
   "metadata": {},
   "outputs": [],
   "source": [
    "# importing necessary modules\n",
    "from pathlib import Path\n",
    "import csv"
   ]
  },
  {
   "cell_type": "markdown",
   "id": "4836f1d3-2efe-4fdd-8f21-1e6a47e9f220",
   "metadata": {},
   "source": [
    "* Create empty lists for months & profit/losses\n",
    "* Create `total_months` and `total_profit` variables and set to `0`"
   ]
  },
  {
   "cell_type": "code",
   "execution_count": 30,
   "id": "13f614d1-099f-428d-8c4a-431d21bf40ba",
   "metadata": {},
   "outputs": [],
   "source": [
    "# Create empty 'month_list' and 'profit_list' lists\n",
    "month_list = [] \n",
    "profit_list = []\n",
    "# Creating 'total_months' and 'total_profit' variables and set to 0\n",
    "total_months = 0 \n",
    "total_profits = 0 "
   ]
  },
  {
   "cell_type": "markdown",
   "id": "e6e4cc7e-0a2c-4322-b0a4-79a94e4013dc",
   "metadata": {},
   "source": [
    "* Create a variable `budget_path` for budget_data.csv in our 'Resources' directory "
   ]
  },
  {
   "cell_type": "code",
   "execution_count": 31,
   "id": "0cf33a98-ec8f-4c96-aab7-f2204442fbab",
   "metadata": {},
   "outputs": [],
   "source": [
    "# Setting variable for the path to our data\n",
    "budget_path = Path('./DataFolder/budget_data.csv')"
   ]
  },
  {
   "cell_type": "markdown",
   "id": "4efa2b37-e826-44d4-bf9c-41da800316c6",
   "metadata": {},
   "source": [
    "* Open budget_data.csv using `with open()`\n",
    "* Use `reader()` method to read our data\n",
    "* Skip the date $ profit/losses header using `next()` method\n",
    "* Iterate through list using a `for` loop\n",
    "    * Slice date month data and use `append()` method and `append()` to `month_list`.\n",
    "    * Slice the Profit/Losses data and use the `append()` method to add to the `profit_list`.\n",
    "    * Use `len()` method to find the length of the rows in our list which is totals to the number of months in our data.\n",
    "    * Slice the Profit/Losses data and add all the integer values in loop to get the Net `total_profits`\n"
   ]
  },
  {
   "cell_type": "code",
   "execution_count": 36,
   "id": "5d27da63-9b66-4bee-a0dd-926239896abb",
   "metadata": {},
   "outputs": [],
   "source": [
    "# Open budget_data.csv\n",
    "with open(budget_path, newline=\"\") as csvfile:\n",
    "    # Read budget data\n",
    "    csvreader = csv.reader(csvfile, delimiter=\",\")\n",
    "    # Skip the header\n",
    "    csv_header = next(csvreader) \n",
    "    \n",
    "    # Using loop to append data to our empty list, count total moths and add total profits\n",
    "    for row in csvfile:     \n",
    "        month_list.append(row[:8])\n",
    "        profit_list.append(row[9:]) \n",
    "        total_months +=len(row[0]) \n",
    "        total_profits += int(row[9:])"
   ]
  },
  {
   "cell_type": "markdown",
   "id": "43d11ea8-8110-47de-b7be-be634c466fb5",
   "metadata": {},
   "source": [
    "* When looping through `profit_list`, use `zip()` method to create variable pairs `current_month` & `previous_month` and find find their difference and set to new variable `change_in_pnl`.\n",
    "* Sort `change_in_pnl` in using `sorted()` method. This sorts in ascending order, the greatest loss first to the greatest profit last.\n",
    "    * Set variable `average` which is equivalent to the `sum()` of `change_in_pnl` divided by its `len()` and round to 2 decimal places."
   ]
  },
  {
   "cell_type": "code",
   "execution_count": 37,
   "id": "fded3f2a-b512-4d20-84ba-a65ace20c67f",
   "metadata": {},
   "outputs": [],
   "source": [
    "# Set variable 'change_in_pnl' to store change in profits and losses list \n",
    "change_in_pnl = [int(current_month) - int(previous_month) for previous_month, current_month in zip(profit_list, profit_list[1:])] \n",
    "\n",
    "# Sort the change in Profits/Losses \n",
    "change_sorted = sorted(change_in_pnl) \n",
    "average = round(sum(change_in_pnl)/len(change_in_pnl),2)     "
   ]
  },
  {
   "cell_type": "markdown",
   "id": "155dd646-77a7-461d-9aa9-2b3889f52bb0",
   "metadata": {},
   "source": [
    "* Use `index()` method to locate the `profit_month`[-1] and `loss_month`[0]. Since the current month being subtracted is one index higher from the previous month, the month index of the change in profit and loss equals (index + 1) "
   ]
  },
  {
   "cell_type": "code",
   "execution_count": 38,
   "id": "10ac665f-0d9a-4bea-97a7-bf6d0b8fb396",
   "metadata": {},
   "outputs": [],
   "source": [
    "# Seting variables for the greatest profit month and the loss month\n",
    "profit_month = change_in_pnl.index(change_sorted[-1]) + 1\n",
    "loss_month = change_in_pnl.index(change_sorted[0]) + 1 "
   ]
  },
  {
   "cell_type": "markdown",
   "id": "8f902efc-d4b1-4202-86e1-4e74fb8cd59f",
   "metadata": {},
   "source": [
    "* Use `with open()` method and `print()` to write and export our analysis to a text file."
   ]
  },
  {
   "cell_type": "code",
   "execution_count": 43,
   "id": "f545619d-9110-4bdd-986a-b26d4076645c",
   "metadata": {},
   "outputs": [],
   "source": [
    "# Set variable for put export file path\n",
    "path = ('./Output/pybank_analysis.txt')\n",
    "\n",
    "# Writing the analysis to our text file with print\n",
    "with open(path, 'w') as f: \n",
    "    print(f\"\"\"Financial Analysis \n",
    "-------------------------------------------------\"\"\", file=f)\n",
    "    print(f\"Total number of months: {total_months}\", file=f)\n",
    "    print(f\"Net total of Profit/Losses over the entire period: ${total_profits}\", file=f)\n",
    "    print(f\"Average  Change in Profit/Losses: ${average}\", file=f)\n",
    "    print(f\"Greatest Increase in Profits: {month_list[profit_month]} (${change_sorted[-1]})\", file=f)\n",
    "    print(f\"Greatest Decrease in Profits: {month_list[loss_month]} (${change_sorted[0]})\", file=f)"
   ]
  }
 ],
 "metadata": {
  "kernelspec": {
   "display_name": "Python 3 (ipykernel)",
   "language": "python",
   "name": "python3"
  },
  "language_info": {
   "codemirror_mode": {
    "name": "ipython",
    "version": 3
   },
   "file_extension": ".py",
   "mimetype": "text/x-python",
   "name": "python",
   "nbconvert_exporter": "python",
   "pygments_lexer": "ipython3",
   "version": "3.9.4"
  }
 },
 "nbformat": 4,
 "nbformat_minor": 5
}
