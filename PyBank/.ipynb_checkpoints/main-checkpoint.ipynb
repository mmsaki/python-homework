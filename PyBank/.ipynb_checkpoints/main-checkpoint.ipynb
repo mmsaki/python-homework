{
 "cells": [
  {
   "cell_type": "code",
   "execution_count": 45,
   "id": "44aca6c2-9fda-46c6-b6db-970b6deaeb19",
   "metadata": {},
   "outputs": [],
   "source": [
    "# importing necessary modules\n",
    "from pathlib import Path\n",
    "import csv\n",
    "\n",
    "# Creating a variable for the path to the 'budget_data.csv' file in our Resources folder \n",
    "csvpath = Path('./DataFolder/budget_data.csv')\n",
    "\n",
    "# Open budget_data.csv\n",
    "with open(csvpath, newline=\"\") as csvfile:\n",
    "    # Using reader() method to read our data\n",
    "    csvreader = csv.reader(csvfile, delimiter=\",\")\n",
    "    csv_header = next(csvreader) # Skips the date $ profit/losses header\n",
    "    \n",
    "    month_list = [] # Creating empty list for our monthly dates\n",
    "    profit_list = [] # Creating empty list to contain profit/losses data\n",
    "    total_months = 0 # Creating 'total_months' variable to be used in loop\n",
    "    total_profits = 0 # Creating 'total_profit' variable to be used in loop\n",
    "    \n",
    "    for row in csvfile: # Iterating through list using a for loop     \n",
    "        month_list.append(row[:8])# Slicing date month data and use 'append()' method to add to 'month_list'.\n",
    "        profit_list.append(row[9:]) # Slicing the Profit/Losses data and use the 'append()' method to 'profit_list'.\n",
    "        total_months +=len(row[0]) # Using 'len()' method I can determine the length of the rows in our list. Number of rows added up totals the number of months in our data.\n",
    "        total_profits += int(row[9:]) # Slicing the Profit/Losses data and adding all the integer values in loop to get the Net total profits\n",
    "    \n",
    "    change = [int(current_month) - int(previous_month) for previous_month, current_month in zip(profit_list, profit_list[1:])] # When looping through 'profit_list', use 'zip()' method and create pairs within the 'profit_list'. Using variable pairs 'current_month', and 'previous month' to find the change in profits/losses\n",
    "    change_sorted = sorted(change) # Sort change in Profits/Losses list using 'sorted()' method. This sorts in ascending order, the greatest loss to the greatest profit.\n",
    "    \n",
    "    average = round(sum(change)/len(change),2) # Average of changes in Profit/Losses and rounding to 2 decimal places\n",
    "    \n",
    "    profit_month = change.index(change_sorted[-1]) + 1 # Using 'index()' method to locate the greatest profit month with last index value, '-1', as input in our sorted list. The 'current_month' is always one index higher than the previous_month, therefore [result index] + 1 gives the required profit/loss month.\n",
    "    loss_month = change.index(change_sorted[0]) + 1 # Using 'index()' method to locate the greatest loss month with index value, '0', as input in our sorted list. \n",
    "    \n",
    "with open(\"../Output/pybank_analysis.txt\", \"w\") as f: # Using with open statement to create 'pybank_analysis.txt' in 'output/' folder within our directory\n",
    "    print(f\"\"\"Financial Analysis \n",
    "----------------------------------------------------------------------------------\"\"\", file=f)\n",
    "    print(f\"Total number of months: {total_months}\", file=f)\n",
    "    print(f\"Net total of Profit/Losses over the entire period: ${total_profits}\", file=f)\n",
    "    print(f\"Average  Change in Profit/Losses: ${average}\", file=f)\n",
    "    print(f\"Greatest Increase in Profits: {month_list[profit_month]} (${change_sorted[-1]})\", file=f)\n",
    "    print(f\"Greatest Decrease in Profits: {month_list[loss_month]} (${change_sorted[0]})\", file=f)\n",
    "    \n",
    "    "
   ]
  }
 ],
 "metadata": {
  "kernelspec": {
   "display_name": "Python 3 (ipykernel)",
   "language": "python",
   "name": "python3"
  },
  "language_info": {
   "codemirror_mode": {
    "name": "ipython",
    "version": 3
   },
   "file_extension": ".py",
   "mimetype": "text/x-python",
   "name": "python",
   "nbconvert_exporter": "python",
   "pygments_lexer": "ipython3",
   "version": "3.9.4"
  }
 },
 "nbformat": 4,
 "nbformat_minor": 5
}
