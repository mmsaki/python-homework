{
 "cells": [
  {
   "cell_type": "code",
   "execution_count": 4,
   "id": "8483cd81-9863-4786-8eab-ef15a0d5258e",
   "metadata": {},
   "outputs": [],
   "source": [
    "# importing necessary libraries\n",
    "from pathlib import Path\n",
    "import pandas as pd\n",
    "\n",
    "# import paths\n",
    "menu_csv = Path('./Resources/menu_data.csv')\n",
    "sales_csv = Path('./Resources/sales_data.csv')\n",
    "df_menu = pd.read_csv(menu_csv)\n",
    "df_sales = pd.read_csv(sales_csv)\n",
    "\n",
    "# Grouping menu item and summing the quantity of sales\n",
    "df_sales_food = df_sales.groupby('Menu_Item')['Quantity'].sum()\n",
    "\n",
    "# Grouping menu items and price\n",
    "df_menu_price = df_menu.groupby('item')['price'].sum()\n",
    "\n",
    "# Grouping menu items and cost\n",
    "df_menu_cost = df_menu.groupby('item')['cost'].sum()\n",
    "\n",
    "# Concating Qantity Price and Cost and dropping na\n",
    "df3 = pd.concat([df_sales_food,df_menu_price,df_menu_cost], axis = 'columns').dropna()\n",
    "\n",
    "# Adding new column 'revenue'\n",
    "df3['revenue'] = df3['Quantity']*df3['price']\n",
    "\n",
    "# Adding new column for Cost of Goods 'cog'\n",
    "df3['cog'] = df3['Quantity']*df3['cost']\n",
    "\n",
    "# Adding new column for 'profits'\n",
    "df3['profits'] = df3['revenue']-df3['cog']"
   ]
  },
  {
   "cell_type": "code",
   "execution_count": 5,
   "id": "4c890c5b",
   "metadata": {},
   "outputs": [],
   "source": [
    "#Renaming columns\n",
    "df3.rename(columns = {'Quantity':'01-count', 'revenue':'02-revenue','cog':'03-cogs','profits':'04-profit'}, inplace = True)\n",
    "#drop price & cost column from DataFrame\n",
    "cols = [1,2]\n",
    "df3.drop(df3.columns[cols], axis=1, inplace=True)"
   ]
  },
  {
   "cell_type": "code",
   "execution_count": 6,
   "id": "35a73fef",
   "metadata": {},
   "outputs": [
    {
     "name": "stdout",
     "output_type": "stream",
     "text": [
      "burnt garlic tonkotsu ramen {'01-count': 9070.0, '02-revenue': 126980.0, '03-cogs': 54420.0, '04-profit': 72560.0}\n",
      "miso crab ramen {'01-count': 8890.0, '02-revenue': 106680.0, '03-cogs': 53340.0, '04-profit': 53340.0}\n",
      "nagomi shoyu {'01-count': 9132.0, '02-revenue': 100452.0, '03-cogs': 45660.0, '04-profit': 54792.0}\n",
      "shio ramen {'01-count': 9180.0, '02-revenue': 100980.0, '03-cogs': 45900.0, '04-profit': 55080.0}\n",
      "soft-shell miso crab ramen {'01-count': 9130.0, '02-revenue': 127820.0, '03-cogs': 63910.0, '04-profit': 63910.0}\n",
      "spicy miso ramen {'01-count': 9238.0, '02-revenue': 110856.0, '03-cogs': 46190.0, '04-profit': 64666.0}\n",
      "tonkotsu ramen {'01-count': 9288.0, '02-revenue': 120744.0, '03-cogs': 55728.0, '04-profit': 65016.0}\n",
      "tori paitan ramen {'01-count': 9156.0, '02-revenue': 119028.0, '03-cogs': 54936.0, '04-profit': 64092.0}\n",
      "truffle butter ramen {'01-count': 8982.0, '02-revenue': 125748.0, '03-cogs': 62874.0, '04-profit': 62874.0}\n",
      "vegetarian curry + king trumpet mushroom ramen {'01-count': 8824.0, '02-revenue': 114712.0, '03-cogs': 61768.0, '04-profit': 52944.0}\n",
      "vegetarian spicy miso {'01-count': 9216.0, '02-revenue': 110592.0, '03-cogs': 46080.0, '04-profit': 64512.0}\n"
     ]
    }
   ],
   "source": [
    "# Printing results\n",
    "print(f\"{df3.index[0]} {dict(df3.iloc[0])}\")\n",
    "print(f\"{df3.index[1]} {dict(df3.iloc[1])}\")\n",
    "print(f\"{df3.index[2]} {dict(df3.iloc[2])}\")\n",
    "print(f\"{df3.index[3]} {dict(df3.iloc[3])}\")\n",
    "print(f\"{df3.index[4]} {dict(df3.iloc[4])}\")\n",
    "print(f\"{df3.index[5]} {dict(df3.iloc[5])}\")\n",
    "print(f\"{df3.index[6]} {dict(df3.iloc[6])}\")\n",
    "print(f\"{df3.index[7]} {dict(df3.iloc[7])}\")\n",
    "print(f\"{df3.index[8]} {dict(df3.iloc[8])}\")\n",
    "print(f\"{df3.index[9]} {dict(df3.iloc[9])}\")\n",
    "print(f\"{df3.index[10]} {dict(df3.iloc[10])}\")"
   ]
  }
 ],
 "metadata": {
  "kernelspec": {
   "display_name": "Python 3 (ipykernel)",
   "language": "python",
   "name": "python3"
  },
  "language_info": {
   "codemirror_mode": {
    "name": "ipython",
    "version": 3
   },
   "file_extension": ".py",
   "mimetype": "text/x-python",
   "name": "python",
   "nbconvert_exporter": "python",
   "pygments_lexer": "ipython3",
   "version": "3.9.4"
  }
 },
 "nbformat": 4,
 "nbformat_minor": 5
}
