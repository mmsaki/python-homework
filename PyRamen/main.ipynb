{
 "cells": [
  {
   "cell_type": "code",
   "execution_count": null,
   "id": "fa8b693d-620e-468b-b893-cad4c3fa6c36",
   "metadata": {},
   "outputs": [],
   "source": [
    "# Initializing an empty `menu` list object to hold the contents of `menu_data.csv`.\n",
    "menu = []\n",
    "\n",
    "\n",
    "# Use a `with` statement and open the `menu_data.csv` by using its file path.\n",
    "\n",
    "\n",
    "# Use the `reader` function from the `csv` library to begin reading `menu_data.csv`.\n",
    "\n",
    "\n",
    "# Use the `next` function to skip the header (first row of the CSV).\n",
    "\n",
    "\n",
    "# Loop over the rest of the rows and append every row to the `menu` list object (the outcome will be a list of lists)."
   ]
  }
 ],
 "metadata": {
  "kernelspec": {
   "display_name": "Python 3 (ipykernel)",
   "language": "python",
   "name": "python3"
  },
  "language_info": {
   "codemirror_mode": {
    "name": "ipython",
    "version": 3
   },
   "file_extension": ".py",
   "mimetype": "text/x-python",
   "name": "python",
   "nbconvert_exporter": "python",
   "pygments_lexer": "ipython3",
   "version": "3.9.4"
  }
 },
 "nbformat": 4,
 "nbformat_minor": 5
}
