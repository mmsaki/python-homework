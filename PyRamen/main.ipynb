{
 "cells": [
  {
   "cell_type": "code",
   "execution_count": 1,
   "id": "8483cd81-9863-4786-8eab-ef15a0d5258e",
   "metadata": {},
   "outputs": [],
   "source": [
    "# importing necessary libraries\n",
    "from pathlib import Path\n",
    "import pandas as pd\n",
    "\n",
    "# import paths\n",
    "menu_csv = Path('./Resources/menu_data.csv')\n",
    "sales_csv = Path('./Resources/sales_data.csv')\n",
    "df_menu = pd.read_csv(menu_csv)\n",
    "df_sales = pd.read_csv(sales_csv)\n",
    "\n",
    "# Grouping menu item and summing the quantity of sales\n",
    "df_sales_food = df_sales.groupby('Menu_Item')['Quantity'].sum()\n",
    "\n",
    "# Grouping menu items and price\n",
    "df_menu_price = df_menu.groupby('item')['price'].sum()\n",
    "\n",
    "# Grouping menu items and cost\n",
    "df_menu_cost = df_menu.groupby('item')['cost'].sum()\n",
    "\n",
    "# Concating Qantity Price and Cost and dropping na\n",
    "df3 = pd.concat([df_sales_food,df_menu_price,df_menu_cost], axis = 'columns').dropna()\n",
    "\n",
    "# Adding new column 'revenue'\n",
    "df3['revenue'] = df3['Quantity']*df3['price']\n",
    "\n",
    "# Adding new column for Cost of Goods 'cog'\n",
    "df3['cog'] = df3['Quantity']*df3['cost']\n",
    "\n",
    "# Adding new column for 'profits'\n",
    "df3['profits'] = df3['revenue']-df3['cog']"
   ]
  },
  {
   "cell_type": "code",
   "execution_count": 2,
   "id": "4c890c5b",
   "metadata": {},
   "outputs": [],
   "source": [
    "#Renaming columns\n",
    "df3.rename(columns = {'Quantity':'01-count', 'revenue':'02-revenue','cog':'03-cogs','profits':'04-profit'}, inplace = True)\n",
    "#drop price & cost column from DataFrame\n",
    "cols = [1,2]\n",
    "df3.drop(df3.columns[cols], axis=1, inplace=True)"
   ]
  },
  {
   "cell_type": "code",
   "execution_count": 7,
   "id": "35a73fef",
   "metadata": {},
   "outputs": [],
   "source": [
    "# Printing results to output folder\n",
    "ramen_report_file_path = Path('./Output/ramen_report.csv') \n",
    "ramen_report_file_path.parent.mkdir(parents=True, exist_ok=True) \n",
    "df3.to_csv(ramen_report_file_path)"
   ]
  }
 ],
 "metadata": {
  "kernelspec": {
   "display_name": "Python 3 (ipykernel)",
   "language": "python",
   "name": "python3"
  },
  "language_info": {
   "codemirror_mode": {
    "name": "ipython",
    "version": 3
   },
   "file_extension": ".py",
   "mimetype": "text/x-python",
   "name": "python",
   "nbconvert_exporter": "python",
   "pygments_lexer": "ipython3",
   "version": "3.9.4"
  }
 },
 "nbformat": 4,
 "nbformat_minor": 5
}
